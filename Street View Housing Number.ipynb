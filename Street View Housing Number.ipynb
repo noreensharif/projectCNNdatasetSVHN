{
 "cells": [
  {
   "cell_type": "code",
   "execution_count": 1,
   "id": "6179db01",
   "metadata": {},
   "outputs": [],
   "source": [
    "import warnings"
   ]
  },
  {
   "cell_type": "code",
   "execution_count": 2,
   "id": "24857af0",
   "metadata": {},
   "outputs": [],
   "source": [
    "import os"
   ]
  },
  {
   "cell_type": "code",
   "execution_count": 3,
   "id": "b8922cc4",
   "metadata": {},
   "outputs": [],
   "source": [
    "import pandas as pd"
   ]
  },
  {
   "cell_type": "code",
   "execution_count": 4,
   "id": "33e68592",
   "metadata": {},
   "outputs": [],
   "source": [
    "import numpy as np"
   ]
  },
  {
   "cell_type": "code",
   "execution_count": 5,
   "id": "7b649f79",
   "metadata": {},
   "outputs": [],
   "source": [
    "import matplotlib.pyplot as plt\n",
    "%matplotlib inline"
   ]
  },
  {
   "cell_type": "code",
   "execution_count": 6,
   "id": "c5c15ebc",
   "metadata": {},
   "outputs": [],
   "source": [
    "from matplotlib import pyplot"
   ]
  },
  {
   "cell_type": "code",
   "execution_count": 7,
   "id": "f6295b94",
   "metadata": {},
   "outputs": [],
   "source": [
    "import seaborn as sns"
   ]
  },
  {
   "cell_type": "code",
   "execution_count": 8,
   "id": "c7efa96f",
   "metadata": {},
   "outputs": [],
   "source": [
    "import tensorflow"
   ]
  },
  {
   "cell_type": "code",
   "execution_count": 9,
   "id": "319dcff4",
   "metadata": {},
   "outputs": [
    {
     "name": "stdout",
     "output_type": "stream",
     "text": [
      "2.6.2\n"
     ]
    }
   ],
   "source": [
    "print(tensorflow.__version__)"
   ]
  },
  {
   "cell_type": "code",
   "execution_count": 10,
   "id": "05a4591d",
   "metadata": {},
   "outputs": [],
   "source": [
    "warnings.filterwarnings('ignore')"
   ]
  },
  {
   "cell_type": "code",
   "execution_count": 11,
   "id": "ffa941e8",
   "metadata": {},
   "outputs": [],
   "source": [
    "pd.options.display.max_columns=None"
   ]
  },
  {
   "cell_type": "code",
   "execution_count": 12,
   "id": "4c05e80b",
   "metadata": {},
   "outputs": [],
   "source": [
    "pd.options.display.float_format='{:.7f}'.format"
   ]
  },
  {
   "cell_type": "code",
   "execution_count": 13,
   "id": "d3c95e6c",
   "metadata": {},
   "outputs": [],
   "source": [
    "pd.options.display.max_rows=None"
   ]
  },
  {
   "cell_type": "code",
   "execution_count": 14,
   "id": "b7334064",
   "metadata": {},
   "outputs": [],
   "source": [
    "#Reading the .h5 file and assign to a variable"
   ]
  },
  {
   "cell_type": "code",
   "execution_count": 15,
   "id": "69687b6d",
   "metadata": {},
   "outputs": [],
   "source": [
    "import h5py"
   ]
  },
  {
   "cell_type": "code",
   "execution_count": 16,
   "id": "1838e318",
   "metadata": {},
   "outputs": [],
   "source": [
    "h5f=h5py.File('E:\\\\DIP_2024Fall\\\\aftermid\\\\Autonomous_Vehicles_SVHN_single_grey1.h5','r')"
   ]
  },
  {
   "cell_type": "code",
   "execution_count": 17,
   "id": "a9b94f83",
   "metadata": {},
   "outputs": [
    {
     "data": {
      "text/plain": [
       "<KeysViewHDF5 ['X_test', 'X_train', 'X_val', 'y_test', 'y_train', 'y_val']>"
      ]
     },
     "execution_count": 17,
     "metadata": {},
     "output_type": "execute_result"
    }
   ],
   "source": [
    "h5f.keys()"
   ]
  },
  {
   "cell_type": "code",
   "execution_count": 18,
   "id": "9ba26f15",
   "metadata": {},
   "outputs": [],
   "source": [
    "#Split the data into X_train,X_test,y_train,y_test"
   ]
  },
  {
   "cell_type": "code",
   "execution_count": 19,
   "id": "0ae21713",
   "metadata": {},
   "outputs": [],
   "source": [
    "#load the training, test and validation set"
   ]
  },
  {
   "cell_type": "code",
   "execution_count": 20,
   "id": "55cf08ba",
   "metadata": {},
   "outputs": [],
   "source": [
    "X_train=h5f['X_train'][:]\n",
    "y_train=h5f['y_train'][:]\n",
    "X_test=h5f['X_test'][:]\n",
    "y_test=h5f['y_test'][:]"
   ]
  },
  {
   "cell_type": "code",
   "execution_count": 21,
   "id": "b91c8cf1",
   "metadata": {},
   "outputs": [],
   "source": [
    "#print shape of all the 4 data split into x,y,train,test to verify if x and y is in sync"
   ]
  },
  {
   "cell_type": "code",
   "execution_count": 22,
   "id": "28b39684",
   "metadata": {},
   "outputs": [
    {
     "data": {
      "text/plain": [
       "(42000, 32, 32)"
      ]
     },
     "execution_count": 22,
     "metadata": {},
     "output_type": "execute_result"
    }
   ],
   "source": [
    "X_train.shape"
   ]
  },
  {
   "cell_type": "code",
   "execution_count": 23,
   "id": "ff1166bd",
   "metadata": {},
   "outputs": [
    {
     "data": {
      "text/plain": [
       "(18000, 32, 32)"
      ]
     },
     "execution_count": 23,
     "metadata": {},
     "output_type": "execute_result"
    }
   ],
   "source": [
    "X_test.shape"
   ]
  },
  {
   "cell_type": "code",
   "execution_count": 24,
   "id": "c8081cfc",
   "metadata": {},
   "outputs": [
    {
     "data": {
      "text/plain": [
       "(42000,)"
      ]
     },
     "execution_count": 24,
     "metadata": {},
     "output_type": "execute_result"
    }
   ],
   "source": [
    "y_train.shape"
   ]
  },
  {
   "cell_type": "code",
   "execution_count": 25,
   "id": "aa2e9f49",
   "metadata": {},
   "outputs": [
    {
     "data": {
      "text/plain": [
       "(18000,)"
      ]
     },
     "execution_count": 25,
     "metadata": {},
     "output_type": "execute_result"
    }
   ],
   "source": [
    "y_test.shape"
   ]
  },
  {
   "cell_type": "code",
   "execution_count": 26,
   "id": "83ff26fa",
   "metadata": {},
   "outputs": [],
   "source": [
    "#Visualiza the first 10 images in train data and print its corresponding labels"
   ]
  },
  {
   "cell_type": "code",
   "execution_count": 27,
   "id": "c93ef3f6",
   "metadata": {},
   "outputs": [],
   "source": [
    "def img_lab(n):\n",
    "    plt.figure(figsize=(n,1))\n",
    "    for i in range(n):\n",
    "        plt.subplot(1,n,i+1)\n",
    "        plt.imshow(X_train[i],cmap='gray')\n",
    "        plt.axis('off')\n",
    "    plt.show()\n",
    "    print('label for each of the above image:%s'%(y_train[0:n]))"
   ]
  },
  {
   "cell_type": "code",
   "execution_count": 28,
   "id": "e2481997",
   "metadata": {},
   "outputs": [
    {
     "data": {
      "image/png": "[encoded data removed]",
      "text/plain": [
       "<Figure size 720x72 with 10 Axes>"
      ]
     },
     "metadata": {
      "needs_background": "light"
     },
     "output_type": "display_data"
    },
    {
     "name": "stdout",
     "output_type": "stream",
     "text": [
      "label for each of the above image:[2 6 7 4 4 0 3 0 7 3]\n"
     ]
    }
   ],
   "source": [
    "img_lab(10)"
   ]
  },
  {
   "cell_type": "code",
   "execution_count": 29,
   "id": "e64143fc",
   "metadata": {},
   "outputs": [],
   "source": [
    "# Reshape all the images with appropriate shape update the data in same variable."
   ]
  },
  {
   "cell_type": "code",
   "execution_count": 30,
   "id": "bba5e586",
   "metadata": {},
   "outputs": [],
   "source": [
    "#Normalize the images i.e. Normalise the pixel values."
   ]
  },
  {
   "cell_type": "code",
   "execution_count": 31,
   "id": "806aa7ac",
   "metadata": {},
   "outputs": [
    {
     "data": {
      "text/plain": [
       "(42000, 32, 32)"
      ]
     },
     "execution_count": 31,
     "metadata": {},
     "output_type": "execute_result"
    }
   ],
   "source": [
    "X_train.shape"
   ]
  },
  {
   "cell_type": "code",
   "execution_count": 32,
   "id": "403408d8",
   "metadata": {},
   "outputs": [],
   "source": [
    "X_train=X_train.reshape(X_train.shape[0],1024,1)\n",
    "X_test=X_test.reshape(X_test.shape[0],1024,1)"
   ]
  },
  {
   "cell_type": "code",
   "execution_count": 33,
   "id": "ecb5e0bf",
   "metadata": {},
   "outputs": [],
   "source": [
    "#normalize inputs from 0 -255 to 0 to 1"
   ]
  },
  {
   "cell_type": "code",
   "execution_count": 34,
   "id": "c484e90e",
   "metadata": {},
   "outputs": [],
   "source": [
    "X_train=X_train/255.0\n",
    "X_test=X_test/255.0"
   ]
  },
  {
   "cell_type": "code",
   "execution_count": 35,
   "id": "d40d91a4",
   "metadata": {},
   "outputs": [
    {
     "name": "stdout",
     "output_type": "stream",
     "text": [
      "Resized Training set (42000, 1024, 1) (42000,)\n",
      "Resized Test set (18000, 1024, 1) (18000,)\n"
     ]
    }
   ],
   "source": [
    "print('Resized Training set',X_train.shape,y_train.shape)\n",
    "print('Resized Test set',X_test.shape,y_test.shape)"
   ]
  },
  {
   "cell_type": "code",
   "execution_count": 36,
   "id": "e3647b1f",
   "metadata": {},
   "outputs": [],
   "source": [
    "#Transform  Labels into format acceptable by Convolution Neural Network\n",
    "#Print Total number of classes in the dataset"
   ]
  },
  {
   "cell_type": "code",
   "execution_count": 37,
   "id": "4fd7deae",
   "metadata": {},
   "outputs": [
    {
     "name": "stdout",
     "output_type": "stream",
     "text": [
      "THe number of classes in this dataset are: 10\n"
     ]
    }
   ],
   "source": [
    "from tensorflow.keras.utils import to_categorical\n",
    "#one hot encode outputs\n",
    "y_train=to_categorical(y_train)\n",
    "y_test=to_categorical(y_test)\n",
    "\n",
    "#no. of classes\n",
    "num_classes=y_test.shape[1]\n",
    "print('THe number of classes in this dataset are:',num_classes)"
   ]
  },
  {
   "cell_type": "code",
   "execution_count": 38,
   "id": "d17de67a",
   "metadata": {},
   "outputs": [],
   "source": [
    "from tensorflow.keras.utils import to_categorical\n",
    "from tensorflow.keras.models import Sequential\n",
    "from tensorflow.keras.layers import Conv2D, MaxPooling2D, Flatten, Dense, Dropout\n",
    "from tensorflow.keras.optimizers import Adam"
   ]
  },
  {
   "cell_type": "code",
   "execution_count": 39,
   "id": "152fc8bf",
   "metadata": {},
   "outputs": [],
   "source": [
    "\n",
    "from tensorflow.keras.models import Sequential\n",
    "from tensorflow.keras.layers import Conv1D, MaxPooling1D, Flatten, Dense, Dropout\n",
    "\n",
    "def cnn_model():\n",
    "    model = Sequential()\n",
    "    # First convolutional layer\n",
    "    model.add(Conv1D(32, kernel_size=3, activation='relu', input_shape=(1024, 1)))\n",
    "    model.add(MaxPooling1D(pool_size=2))\n",
    "    \n",
    "    # Second convolutional layer\n",
    "    model.add(Conv1D(64, kernel_size=3, activation='relu'))\n",
    "    model.add(MaxPooling1D(pool_size=2))\n",
    "    \n",
    "    # Third convolutional layer\n",
    "    model.add(Conv1D(128, kernel_size=3, activation='relu'))\n",
    "    model.add(MaxPooling1D(pool_size=2))\n",
    "    \n",
    "    # Flatten the output for the dense layers\n",
    "    model.add(Flatten())\n",
    "    \n",
    "    # Fully connected layer\n",
    "    model.add(Dense(128, activation='relu'))\n",
    "    model.add(Dropout(0.5))  # Dropout for regularization\n",
    "    \n",
    "    # Output layer (adjust units based on the number of classes)\n",
    "    model.add(Dense(10, activation='softmax'))  # Assuming 10 classes for classification\n",
    "    \n",
    "    return model\n",
    "\n"
   ]
  },
  {
   "cell_type": "code",
   "execution_count": 40,
   "id": "152c7639",
   "metadata": {},
   "outputs": [],
   "source": [
    "#build the model\n",
    "model=cnn_model()"
   ]
  },
  {
   "cell_type": "code",
   "execution_count": 41,
   "id": "aa4502ae",
   "metadata": {},
   "outputs": [],
   "source": [
    "#train the classifier using the previously designed Architecture (Use best suitable parameters)"
   ]
  },
  {
   "cell_type": "code",
   "execution_count": 42,
   "id": "5a8f0f15",
   "metadata": {},
   "outputs": [],
   "source": [
    "#compile model\n",
    "sgd=Adam(lr=1e-3)\n",
    "# model.compile(loss='categorical_crossentropy',optimizer=sgd,metrics=['accuracy'])\n",
    "model.compile(optimizer=Adam(), loss='categorical_crossentropy', metrics=['accuracy'])"
   ]
  },
  {
   "cell_type": "code",
   "execution_count": 43,
   "id": "85c2e259",
   "metadata": {},
   "outputs": [
    {
     "name": "stdout",
     "output_type": "stream",
     "text": [
      "Epoch 1/10\n",
      "140/140 - 75s - loss: 2.0292 - accuracy: 0.2683 - val_loss: 1.4660 - val_accuracy: 0.5678\n",
      "Epoch 2/10\n",
      "140/140 - 77s - loss: 1.4778 - accuracy: 0.5108 - val_loss: 1.1772 - val_accuracy: 0.6375\n",
      "Epoch 3/10\n",
      "140/140 - 77s - loss: 1.3071 - accuracy: 0.5651 - val_loss: 1.0408 - val_accuracy: 0.6728\n",
      "Epoch 4/10\n",
      "140/140 - 76s - loss: 1.2166 - accuracy: 0.5953 - val_loss: 0.9854 - val_accuracy: 0.6916\n",
      "Epoch 5/10\n",
      "140/140 - 78s - loss: 1.1508 - accuracy: 0.6172 - val_loss: 0.9435 - val_accuracy: 0.7041\n",
      "Epoch 6/10\n",
      "140/140 - 75s - loss: 1.1086 - accuracy: 0.6308 - val_loss: 0.9205 - val_accuracy: 0.7098\n",
      "Epoch 7/10\n",
      "140/140 - 77s - loss: 1.0690 - accuracy: 0.6411 - val_loss: 0.9055 - val_accuracy: 0.7145\n",
      "Epoch 8/10\n",
      "140/140 - 69s - loss: 1.0379 - accuracy: 0.6487 - val_loss: 0.8790 - val_accuracy: 0.7245\n",
      "Epoch 9/10\n",
      "140/140 - 70s - loss: 1.0131 - accuracy: 0.6615 - val_loss: 0.8537 - val_accuracy: 0.7303\n",
      "Epoch 10/10\n",
      "140/140 - 69s - loss: 0.9847 - accuracy: 0.6662 - val_loss: 0.8714 - val_accuracy: 0.7297\n"
     ]
    }
   ],
   "source": [
    "training_history=model.fit(X_train,y_train,validation_data=(X_test,y_test),epochs=10,batch_size=300,verbose=2)"
   ]
  },
  {
   "cell_type": "code",
   "execution_count": 44,
   "id": "40fdab29",
   "metadata": {},
   "outputs": [],
   "source": [
    "# Evaluate performance of the model with approriate metrics"
   ]
  },
  {
   "cell_type": "code",
   "execution_count": 45,
   "id": "f8337690",
   "metadata": {},
   "outputs": [
    {
     "name": "stdout",
     "output_type": "stream",
     "text": [
      "Loss: 0.8713622689247131\n",
      "Accuracy: 0.7296666502952576\n"
     ]
    }
   ],
   "source": [
    "# Final evalution of the model\n",
    "scores=model.evaluate(X_test,y_test,verbose=0)\n",
    "print('Loss:',scores[0])\n",
    "print('Accuracy:',scores[1])"
   ]
  },
  {
   "cell_type": "code",
   "execution_count": 46,
   "id": "89821f86",
   "metadata": {},
   "outputs": [],
   "source": [
    "#plot the training loss,validation loss vs number of epochs and training accuracy, validation accuracy vs number of epochs plot"
   ]
  },
  {
   "cell_type": "code",
   "execution_count": 47,
   "id": "9f3eca32",
   "metadata": {},
   "outputs": [
    {
     "data": {
      "text/plain": [
       "Text(0.5, 1.0, 'Training and validation loss')"
      ]
     },
     "execution_count": 47,
     "metadata": {},
     "output_type": "execute_result"
    },
    {
     "data": {
      "image/png": "[encoded data removed]",
      "text/plain": [
       "<Figure size 432x288 with 1 Axes>"
      ]
     },
     "metadata": {
      "needs_background": "light"
     },
     "output_type": "display_data"
    },
    {
     "data": {
      "image/png": "[encoded data removed]",
      "text/plain": [
       "<Figure size 432x288 with 1 Axes>"
      ]
     },
     "metadata": {
      "needs_background": "light"
     },
     "output_type": "display_data"
    }
   ],
   "source": [
    "accuracy=training_history.history['accuracy']\n",
    "val_accuracy=training_history.history['val_accuracy']\n",
    "loss=training_history.history['loss']\n",
    "val_loss=training_history.history['val_loss']\n",
    "\n",
    "\n",
    "epochs=range(len(accuracy))\n",
    "\n",
    "plt.plot(epochs,accuracy,label='training accuracy')\n",
    "plt.plot(epochs,val_accuracy,label='validation accuracy')\n",
    "plt.title('Training and validation accuracy')\n",
    "plt.legend(loc='lower right')\n",
    "plt.figure()\n",
    "\n",
    "plt.plot(epochs,loss,label='training loss')\n",
    "plt.plot(epochs,val_loss,label='validation loss')\n",
    "plt.legend(loc='upper right')\n",
    "plt.title('Training and validation loss')"
   ]
  },
  {
   "cell_type": "code",
   "execution_count": null,
   "id": "1a661022",
   "metadata": {},
   "outputs": [],
   "source": []
  }
 ],
 "metadata": {
  "kernelspec": {
   "display_name": "Python 3",
   "language": "python",
   "name": "python3"
  },
  "language_info": {
   "codemirror_mode": {
    "name": "ipython",
    "version": 3
   },
   "file_extension": ".py",
   "mimetype": "text/x-python",
   "name": "python",
   "nbconvert_exporter": "python",
   "pygments_lexer": "ipython3",
   "version": "3.6.8"
  }
 },
 "nbformat": 4,
 "nbformat_minor": 5
}
